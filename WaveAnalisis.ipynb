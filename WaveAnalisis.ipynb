{
  "cells": [
    {
      "cell_type": "markdown",
      "metadata": {
        "id": "view-in-github",
        "colab_type": "text"
      },
      "source": [
        "<a href=\"https://colab.research.google.com/github/MauroGonzalez51/WaveAnalysis-in-React/blob/master/WaveAnalisis.ipynb\" target=\"_parent\"><img src=\"https://colab.research.google.com/assets/colab-badge.svg\" alt=\"Open In Colab\"/></a>"
      ]
    },
    {
      "cell_type": "code",
      "execution_count": 1,
      "metadata": {
        "id": "rYYSo8wQpxlW"
      },
      "outputs": [],
      "source": [
        "# * In case of installing new libraries use pip install <!- LIBRARY ->"
      ]
    },
    {
      "cell_type": "code",
      "execution_count": 2,
      "metadata": {
        "colab": {
          "base_uri": "https://localhost:8080/"
        },
        "id": "eWGZmBLSgSJF",
        "outputId": "f859197a-07af-485d-d60a-50ce8e8e187a"
      },
      "outputs": [
        {
          "output_type": "stream",
          "name": "stdout",
          "text": [
            "Requirement already satisfied: numpy in /usr/local/lib/python3.10/dist-packages (1.23.5)\n"
          ]
        }
      ],
      "source": [
        "pip install numpy"
      ]
    },
    {
      "cell_type": "code",
      "execution_count": 3,
      "metadata": {
        "colab": {
          "base_uri": "https://localhost:8080/"
        },
        "id": "u_2qpmtDgUFb",
        "outputId": "4a801d1c-9046-4a1c-a175-768dce9c38f6"
      },
      "outputs": [
        {
          "output_type": "stream",
          "name": "stdout",
          "text": [
            "Requirement already satisfied: librosa in /usr/local/lib/python3.10/dist-packages (0.10.1)\n",
            "Requirement already satisfied: audioread>=2.1.9 in /usr/local/lib/python3.10/dist-packages (from librosa) (3.0.1)\n",
            "Requirement already satisfied: numpy!=1.22.0,!=1.22.1,!=1.22.2,>=1.20.3 in /usr/local/lib/python3.10/dist-packages (from librosa) (1.23.5)\n",
            "Requirement already satisfied: scipy>=1.2.0 in /usr/local/lib/python3.10/dist-packages (from librosa) (1.11.3)\n",
            "Requirement already satisfied: scikit-learn>=0.20.0 in /usr/local/lib/python3.10/dist-packages (from librosa) (1.2.2)\n",
            "Requirement already satisfied: joblib>=0.14 in /usr/local/lib/python3.10/dist-packages (from librosa) (1.3.2)\n",
            "Requirement already satisfied: decorator>=4.3.0 in /usr/local/lib/python3.10/dist-packages (from librosa) (4.4.2)\n",
            "Requirement already satisfied: numba>=0.51.0 in /usr/local/lib/python3.10/dist-packages (from librosa) (0.56.4)\n",
            "Requirement already satisfied: soundfile>=0.12.1 in /usr/local/lib/python3.10/dist-packages (from librosa) (0.12.1)\n",
            "Requirement already satisfied: pooch>=1.0 in /usr/local/lib/python3.10/dist-packages (from librosa) (1.7.0)\n",
            "Requirement already satisfied: soxr>=0.3.2 in /usr/local/lib/python3.10/dist-packages (from librosa) (0.3.7)\n",
            "Requirement already satisfied: typing-extensions>=4.1.1 in /usr/local/lib/python3.10/dist-packages (from librosa) (4.5.0)\n",
            "Requirement already satisfied: lazy-loader>=0.1 in /usr/local/lib/python3.10/dist-packages (from librosa) (0.3)\n",
            "Requirement already satisfied: msgpack>=1.0 in /usr/local/lib/python3.10/dist-packages (from librosa) (1.0.7)\n",
            "Requirement already satisfied: llvmlite<0.40,>=0.39.0dev0 in /usr/local/lib/python3.10/dist-packages (from numba>=0.51.0->librosa) (0.39.1)\n",
            "Requirement already satisfied: setuptools in /usr/local/lib/python3.10/dist-packages (from numba>=0.51.0->librosa) (67.7.2)\n",
            "Requirement already satisfied: platformdirs>=2.5.0 in /usr/local/lib/python3.10/dist-packages (from pooch>=1.0->librosa) (3.11.0)\n",
            "Requirement already satisfied: packaging>=20.0 in /usr/local/lib/python3.10/dist-packages (from pooch>=1.0->librosa) (23.2)\n",
            "Requirement already satisfied: requests>=2.19.0 in /usr/local/lib/python3.10/dist-packages (from pooch>=1.0->librosa) (2.31.0)\n",
            "Requirement already satisfied: threadpoolctl>=2.0.0 in /usr/local/lib/python3.10/dist-packages (from scikit-learn>=0.20.0->librosa) (3.2.0)\n",
            "Requirement already satisfied: cffi>=1.0 in /usr/local/lib/python3.10/dist-packages (from soundfile>=0.12.1->librosa) (1.16.0)\n",
            "Requirement already satisfied: pycparser in /usr/local/lib/python3.10/dist-packages (from cffi>=1.0->soundfile>=0.12.1->librosa) (2.21)\n",
            "Requirement already satisfied: charset-normalizer<4,>=2 in /usr/local/lib/python3.10/dist-packages (from requests>=2.19.0->pooch>=1.0->librosa) (3.3.0)\n",
            "Requirement already satisfied: idna<4,>=2.5 in /usr/local/lib/python3.10/dist-packages (from requests>=2.19.0->pooch>=1.0->librosa) (3.4)\n",
            "Requirement already satisfied: urllib3<3,>=1.21.1 in /usr/local/lib/python3.10/dist-packages (from requests>=2.19.0->pooch>=1.0->librosa) (2.0.7)\n",
            "Requirement already satisfied: certifi>=2017.4.17 in /usr/local/lib/python3.10/dist-packages (from requests>=2.19.0->pooch>=1.0->librosa) (2023.7.22)\n"
          ]
        }
      ],
      "source": [
        "pip install librosa"
      ]
    },
    {
      "cell_type": "code",
      "execution_count": 4,
      "metadata": {
        "colab": {
          "base_uri": "https://localhost:8080/"
        },
        "id": "bNHY6V76g-Ro",
        "outputId": "d87886fe-d58d-419f-ba66-0a076dd45602"
      },
      "outputs": [
        {
          "output_type": "stream",
          "name": "stdout",
          "text": [
            "Collecting flask_ngrok\n",
            "  Downloading flask_ngrok-0.0.25-py3-none-any.whl (3.1 kB)\n",
            "Requirement already satisfied: Flask>=0.8 in /usr/local/lib/python3.10/dist-packages (from flask_ngrok) (2.2.5)\n",
            "Requirement already satisfied: requests in /usr/local/lib/python3.10/dist-packages (from flask_ngrok) (2.31.0)\n",
            "Requirement already satisfied: Werkzeug>=2.2.2 in /usr/local/lib/python3.10/dist-packages (from Flask>=0.8->flask_ngrok) (3.0.0)\n",
            "Requirement already satisfied: Jinja2>=3.0 in /usr/local/lib/python3.10/dist-packages (from Flask>=0.8->flask_ngrok) (3.1.2)\n",
            "Requirement already satisfied: itsdangerous>=2.0 in /usr/local/lib/python3.10/dist-packages (from Flask>=0.8->flask_ngrok) (2.1.2)\n",
            "Requirement already satisfied: click>=8.0 in /usr/local/lib/python3.10/dist-packages (from Flask>=0.8->flask_ngrok) (8.1.7)\n",
            "Requirement already satisfied: charset-normalizer<4,>=2 in /usr/local/lib/python3.10/dist-packages (from requests->flask_ngrok) (3.3.0)\n",
            "Requirement already satisfied: idna<4,>=2.5 in /usr/local/lib/python3.10/dist-packages (from requests->flask_ngrok) (3.4)\n",
            "Requirement already satisfied: urllib3<3,>=1.21.1 in /usr/local/lib/python3.10/dist-packages (from requests->flask_ngrok) (2.0.7)\n",
            "Requirement already satisfied: certifi>=2017.4.17 in /usr/local/lib/python3.10/dist-packages (from requests->flask_ngrok) (2023.7.22)\n",
            "Requirement already satisfied: MarkupSafe>=2.0 in /usr/local/lib/python3.10/dist-packages (from Jinja2>=3.0->Flask>=0.8->flask_ngrok) (2.1.3)\n",
            "Installing collected packages: flask_ngrok\n",
            "Successfully installed flask_ngrok-0.0.25\n"
          ]
        }
      ],
      "source": [
        "pip install flask_ngrok"
      ]
    },
    {
      "cell_type": "code",
      "execution_count": 5,
      "metadata": {
        "colab": {
          "base_uri": "https://localhost:8080/"
        },
        "id": "-VI0uaefhBJU",
        "outputId": "8247af6e-296e-4df0-f873-b6f89da688f6"
      },
      "outputs": [
        {
          "output_type": "stream",
          "name": "stdout",
          "text": [
            "Collecting flask_cors\n",
            "  Downloading Flask_Cors-4.0.0-py2.py3-none-any.whl (14 kB)\n",
            "Requirement already satisfied: Flask>=0.9 in /usr/local/lib/python3.10/dist-packages (from flask_cors) (2.2.5)\n",
            "Requirement already satisfied: Werkzeug>=2.2.2 in /usr/local/lib/python3.10/dist-packages (from Flask>=0.9->flask_cors) (3.0.0)\n",
            "Requirement already satisfied: Jinja2>=3.0 in /usr/local/lib/python3.10/dist-packages (from Flask>=0.9->flask_cors) (3.1.2)\n",
            "Requirement already satisfied: itsdangerous>=2.0 in /usr/local/lib/python3.10/dist-packages (from Flask>=0.9->flask_cors) (2.1.2)\n",
            "Requirement already satisfied: click>=8.0 in /usr/local/lib/python3.10/dist-packages (from Flask>=0.9->flask_cors) (8.1.7)\n",
            "Requirement already satisfied: MarkupSafe>=2.0 in /usr/local/lib/python3.10/dist-packages (from Jinja2>=3.0->Flask>=0.9->flask_cors) (2.1.3)\n",
            "Installing collected packages: flask_cors\n",
            "Successfully installed flask_cors-4.0.0\n"
          ]
        }
      ],
      "source": [
        "pip install flask_cors"
      ]
    },
    {
      "cell_type": "code",
      "execution_count": 6,
      "metadata": {
        "colab": {
          "base_uri": "https://localhost:8080/"
        },
        "id": "_OxwVBHnyuj1",
        "outputId": "47db6c27-c8a6-4935-8bae-e0631f449852"
      },
      "outputs": [
        {
          "output_type": "stream",
          "name": "stdout",
          "text": [
            "Collecting pydub\n",
            "  Downloading pydub-0.25.1-py2.py3-none-any.whl (32 kB)\n",
            "Installing collected packages: pydub\n",
            "Successfully installed pydub-0.25.1\n"
          ]
        }
      ],
      "source": [
        "pip install pydub"
      ]
    },
    {
      "cell_type": "code",
      "execution_count": 7,
      "metadata": {
        "id": "U5qkxdF3h4g5"
      },
      "outputs": [],
      "source": [
        "from IPython.core.display import json"
      ]
    },
    {
      "cell_type": "code",
      "execution_count": 8,
      "metadata": {
        "id": "XM9K48IxpfGE"
      },
      "outputs": [],
      "source": [
        "import numpy as np\n",
        "import librosa\n",
        "from google.colab import files\n",
        "import librosa.display\n",
        "import matplotlib.pyplot as plt\n",
        "import os\n",
        "from flask import Flask, request, jsonify, send_file\n",
        "from flask_cors import CORS\n",
        "from flask_ngrok import run_with_ngrok\n",
        "import io\n",
        "import zipfile\n",
        "from pydub import AudioSegment"
      ]
    },
    {
      "cell_type": "code",
      "execution_count": 9,
      "metadata": {
        "id": "wp6bW_aUDDGo"
      },
      "outputs": [],
      "source": [
        "# ! Select a file\n",
        "\n",
        "def select_file():\n",
        "  return files.upload()"
      ]
    },
    {
      "cell_type": "code",
      "execution_count": 10,
      "metadata": {
        "id": "bfLF5dboZVWy"
      },
      "outputs": [],
      "source": [
        "def get_wave_shape(y, sr, save = False):\n",
        "    plt.figure(figsize=(12,4))\n",
        "    librosa.display.waveshow(y, sr=sr)\n",
        "    plt.title(\"Forma de Onda\")\n",
        "    plt.xlabel(\"Tiempo (s)\")\n",
        "    plt.ylabel(\"Amplitud\")\n",
        "\n",
        "    if (save):\n",
        "        # * Save the file in a BytesIO Object\n",
        "        img_buffer = io.BytesIO()\n",
        "        plt.savefig(img_buffer, format='png')\n",
        "        img_buffer.seek(0)\n",
        "        return img_buffer\n",
        "\n",
        "    else:\n",
        "        plt.show()\n",
        "        plt.close()\n",
        "        return None\n",
        "\n",
        "def get_spectogram(y, sr, save=False):\n",
        "    S = np.abs(librosa.stft(y))\n",
        "    D = librosa.amplitude_to_db(S, ref=np.max)\n",
        "    plt.figure(figsize=(12, 4))\n",
        "    librosa.display.specshow(D, sr=sr, x_axis=\"time\", y_axis=\"log\")\n",
        "    plt.colorbar(format=\"%+2.0f dB\")\n",
        "    plt.title(\"Espectrograma\")\n",
        "\n",
        "    if save:\n",
        "        # Save the file in a BytesIO Object\n",
        "        img_buffer = io.BytesIO()\n",
        "        plt.savefig(img_buffer, format='png')\n",
        "        img_buffer.seek(0)\n",
        "        return img_buffer\n",
        "    else:\n",
        "        plt.show()\n",
        "        plt.close()\n",
        "        return None\n",
        "\n",
        "def get_tempo_rhythm(y, sr, save = False):\n",
        "    tempo, beat_frames = librosa.beat.beat_track(y=y, sr=sr)\n",
        "\n",
        "    if (save):\n",
        "        return {\n",
        "            \"tempo\": tempo\n",
        "        }\n",
        "\n",
        "    else:\n",
        "        print(f\"Tempo estimado: ${tempo} BMP\")\n",
        "\n",
        "def get_tonality_features(y, sr, save = False):\n",
        "    chroma = librosa.feature.chroma_stft(y=y, sr=sr)\n",
        "    plt.figure(figsize=(12, 4))\n",
        "    librosa.display.specshow(chroma, y_axis=\"chroma\", x_axis=\"time\")\n",
        "    plt.colorbar()\n",
        "    plt.title(\"Características de Tonalidad\")\n",
        "\n",
        "    if (save):\n",
        "        # * Save the file in a BytesIO Object\n",
        "        img_buffer = io.BytesIO()\n",
        "        plt.savefig(img_buffer, format='png')\n",
        "        img_buffer.seek(0)\n",
        "        return img_buffer\n",
        "\n",
        "    else:\n",
        "        plt.show()\n",
        "        plt.close()\n",
        "        return None\n",
        "\n",
        "def calculate_mfcc(y, sr, save = False):\n",
        "    mfccs = librosa.feature.mfcc(y=y, sr=sr)\n",
        "    plt.figure(figsize=(12, 4))\n",
        "    librosa.display.specshow(mfccs, x_axis=\"time\")\n",
        "    plt.colorbar()\n",
        "    plt.title(\"MFCC\")\n",
        "\n",
        "    if (save):\n",
        "        # * Save the file in a BytesIO Object\n",
        "        img_buffer = io.BytesIO()\n",
        "        plt.savefig(img_buffer, format='png')\n",
        "        img_buffer.seek(0)\n",
        "        return img_buffer\n",
        "\n",
        "    else:\n",
        "        plt.show()\n",
        "        plt.close()\n",
        "        return None"
      ]
    },
    {
      "cell_type": "code",
      "execution_count": 11,
      "metadata": {
        "id": "wB1hijwYevw-"
      },
      "outputs": [],
      "source": [
        "def analize_audio(selected_file, save=False):\n",
        "    try:\n",
        "        # Load the audio file\n",
        "        y, sr = librosa.load(selected_file)\n",
        "\n",
        "        images = []\n",
        "\n",
        "        if not save:\n",
        "            # Visualize the shape of the wave\n",
        "            get_wave_shape(y, sr, save)\n",
        "\n",
        "            # Extract the spectrogram\n",
        "            get_spectogram(y, sr, save)\n",
        "\n",
        "            # Tempo and rhythm\n",
        "            get_tempo_rhythm(y, sr, save)\n",
        "\n",
        "            # Extract tonality features\n",
        "            get_tonality_features(y, sr, save)\n",
        "\n",
        "            # Calculate the MFCC (Mel-frequency cepstral coefficients)\n",
        "            calculate_mfcc(y, sr, save)\n",
        "\n",
        "        else:\n",
        "            # Generate and save images\n",
        "            images.append((\"wave_shape.png\", get_wave_shape(y, sr, save)))\n",
        "            images.append((\"spectogram.png\", get_spectogram(y, sr, save)))\n",
        "            images.append((\"tonality_features.png\", get_tonality_features(y, sr, save)))\n",
        "            images.append((\"mfcc.png\", calculate_mfcc(y, sr, save)))\n",
        "\n",
        "            # Create a ZIP file\n",
        "            zip_buffer = io.BytesIO()\n",
        "            with zipfile.ZipFile(zip_buffer, \"a\") as zipf:\n",
        "                for img_filename, img_buffer in images:\n",
        "                    if img_buffer:\n",
        "                        zipf.writestr(img_filename, img_buffer.getvalue())\n",
        "\n",
        "            tempo_rhythm = get_tempo_rhythm(y, sr, save)\n",
        "            with zipfile.ZipFile(zip_buffer, \"a\") as zipf:\n",
        "                zipf.writestr(\"tempo_rhythm.json\", json.dumps(tempo_rhythm))\n",
        "\n",
        "            zip_buffer.seek(0)\n",
        "            return zip_buffer\n",
        "\n",
        "    except Exception as e:\n",
        "        print(f\"Exception: {e}\")\n",
        "        return None\n"
      ]
    },
    {
      "cell_type": "code",
      "execution_count": 12,
      "metadata": {
        "id": "hDg9wqXeELbV"
      },
      "outputs": [],
      "source": [
        "# def main():\n",
        "#   uploaded_files = select_file()\n",
        "\n",
        "#   for filename, file_content in uploaded_files.items():\n",
        "#       filename = \"/content/\" + \"file.mp3\"\n",
        "\n",
        "#       # Save the content in a file with the new name\n",
        "#       with open(filename, \"wb\") as f:\n",
        "#           f.write(file_content)\n",
        "\n",
        "#       # Finally, analysing the audio\n",
        "#       analize_audio(filename, False)\n",
        "\n",
        "# main()"
      ]
    },
    {
      "cell_type": "code",
      "execution_count": null,
      "metadata": {
        "id": "KvGncMekYM9W"
      },
      "outputs": [],
      "source": [
        "app = Flask(__name__)\n",
        "CORS(app)\n",
        "run_with_ngrok(app)\n",
        "\n",
        "@app.route(\"/\", methods=[\"GET\"])\n",
        "def connection_stablished():\n",
        "    return jsonify({ \"message\": \"Hello there!\" })\n",
        "\n",
        "@app.route('/analyze', methods=[\"POST\"])\n",
        "def analyze():\n",
        "    try:\n",
        "        if 'audio' in request.files:\n",
        "            audio = request.files['audio']\n",
        "            zip_file = analize_audio(audio, True)\n",
        "            return send_file(zip_file, mimetype='application/zip', as_attachment=True, download_name='analysis.zip')\n",
        "        else:\n",
        "            return jsonify({ \"message\": \"File not found in request!\" })\n",
        "    except Exception as e:\n",
        "        print(f\"Exception: {e}\")\n",
        "        return jsonify({ \"error\": str(e) })\n",
        "\n",
        "\n",
        "app.config['MAX_CONTENT_LENGTH'] = 30 * 1024 * 1024  # Max content size: 30 MB\n",
        "\n",
        "app.run()"
      ]
    }
  ],
  "metadata": {
    "colab": {
      "provenance": [],
      "authorship_tag": "ABX9TyPPj4A1ZVEeeh7Ag15Vidyf",
      "include_colab_link": true
    },
    "kernelspec": {
      "display_name": "Python 3",
      "name": "python3"
    },
    "language_info": {
      "name": "python"
    }
  },
  "nbformat": 4,
  "nbformat_minor": 0
}