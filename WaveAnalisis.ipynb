{
  "cells": [
    {
      "cell_type": "markdown",
      "metadata": {
        "id": "view-in-github",
        "colab_type": "text"
      },
      "source": [
        "<a href=\"https://colab.research.google.com/github/MauroGonzalez51/WaveAnalysis-in-React/blob/master/WaveAnalisis.ipynb\" target=\"_parent\"><img src=\"https://colab.research.google.com/assets/colab-badge.svg\" alt=\"Open In Colab\"/></a>"
      ]
    },
    {
      "cell_type": "code",
      "execution_count": 29,
      "metadata": {
        "id": "rYYSo8wQpxlW"
      },
      "outputs": [],
      "source": [
        "# * In case of installing new libraries use pip install <!- LIBRARY ->"
      ]
    },
    {
      "cell_type": "code",
      "execution_count": null,
      "metadata": {
        "id": "eWGZmBLSgSJF"
      },
      "outputs": [],
      "source": [
        "pip install numpy"
      ]
    },
    {
      "cell_type": "code",
      "execution_count": null,
      "metadata": {
        "id": "u_2qpmtDgUFb"
      },
      "outputs": [],
      "source": [
        "pip install librosa"
      ]
    },
    {
      "cell_type": "code",
      "execution_count": null,
      "metadata": {
        "id": "bNHY6V76g-Ro"
      },
      "outputs": [],
      "source": [
        "pip install flask_ngrok"
      ]
    },
    {
      "cell_type": "code",
      "execution_count": null,
      "metadata": {
        "id": "-VI0uaefhBJU"
      },
      "outputs": [],
      "source": [
        "pip install flask_cors"
      ]
    },
    {
      "cell_type": "code",
      "execution_count": null,
      "metadata": {
        "id": "_OxwVBHnyuj1"
      },
      "outputs": [],
      "source": [
        "pip install pydub"
      ]
    },
    {
      "cell_type": "code",
      "execution_count": 35,
      "metadata": {
        "id": "U5qkxdF3h4g5"
      },
      "outputs": [],
      "source": [
        "from IPython.core.display import json"
      ]
    },
    {
      "cell_type": "code",
      "execution_count": 36,
      "metadata": {
        "id": "XM9K48IxpfGE"
      },
      "outputs": [],
      "source": [
        "import numpy as np\n",
        "import librosa\n",
        "from google.colab import files\n",
        "import librosa.display\n",
        "import matplotlib.pyplot as plt\n",
        "import os\n",
        "from flask import Flask, request, jsonify, send_file\n",
        "from flask_cors import CORS\n",
        "from flask_ngrok import run_with_ngrok\n",
        "import io\n",
        "import zipfile\n",
        "from pydub import AudioSegment"
      ]
    },
    {
      "cell_type": "code",
      "execution_count": 37,
      "metadata": {
        "id": "wp6bW_aUDDGo"
      },
      "outputs": [],
      "source": [
        "# ! Select a file\n",
        "\n",
        "def select_file():\n",
        "  return files.upload()"
      ]
    },
    {
      "cell_type": "code",
      "execution_count": 38,
      "metadata": {
        "id": "bfLF5dboZVWy"
      },
      "outputs": [],
      "source": [
        "def get_wave_shape(y, sr, save = False):\n",
        "    plt.figure(figsize=(12,4))\n",
        "    librosa.display.waveshow(y, sr=sr)\n",
        "    plt.title(\"Forma de Onda\")\n",
        "    plt.xlabel(\"Tiempo (s)\")\n",
        "    plt.ylabel(\"Amplitud\")\n",
        "\n",
        "    if (save):\n",
        "        # * Save the file in a BytesIO Object\n",
        "        img_buffer = io.BytesIO()\n",
        "        plt.savefig(img_buffer, format='png')\n",
        "        img_buffer.seek(0)\n",
        "        return img_buffer\n",
        "\n",
        "    else:\n",
        "        plt.show()\n",
        "        plt.close()\n",
        "        return None\n",
        "\n",
        "def get_spectogram(y, sr, save=False):\n",
        "    S = np.abs(librosa.stft(y))\n",
        "    D = librosa.amplitude_to_db(S, ref=np.max)\n",
        "    plt.figure(figsize=(12, 4))\n",
        "    librosa.display.specshow(D, sr=sr, x_axis=\"time\", y_axis=\"log\")\n",
        "    plt.colorbar(format=\"%+2.0f dB\")\n",
        "    plt.title(\"Espectrograma\")\n",
        "\n",
        "    if save:\n",
        "        # Save the file in a BytesIO Object\n",
        "        img_buffer = io.BytesIO()\n",
        "        plt.savefig(img_buffer, format='png')\n",
        "        img_buffer.seek(0)\n",
        "        return img_buffer\n",
        "    else:\n",
        "        plt.show()\n",
        "        plt.close()\n",
        "        return None\n",
        "\n",
        "def get_tempo_rhythm(y, sr, save = False):\n",
        "    tempo, beat_frames = librosa.beat.beat_track(y=y, sr=sr)\n",
        "\n",
        "    if (save):\n",
        "        return {\n",
        "            \"tempo\": tempo\n",
        "        }\n",
        "\n",
        "    else:\n",
        "        print(f\"Tempo estimado: ${tempo} BMP\")\n",
        "\n",
        "def get_tonality_features(y, sr, save = False):\n",
        "    chroma = librosa.feature.chroma_stft(y=y, sr=sr)\n",
        "    plt.figure(figsize=(12, 4))\n",
        "    librosa.display.specshow(chroma, y_axis=\"chroma\", x_axis=\"time\")\n",
        "    plt.colorbar()\n",
        "    plt.title(\"Características de Tonalidad\")\n",
        "\n",
        "    if (save):\n",
        "        # * Save the file in a BytesIO Object\n",
        "        img_buffer = io.BytesIO()\n",
        "        plt.savefig(img_buffer, format='png')\n",
        "        img_buffer.seek(0)\n",
        "        return img_buffer\n",
        "\n",
        "    else:\n",
        "        plt.show()\n",
        "        plt.close()\n",
        "        return None\n",
        "\n",
        "def calculate_mfcc(y, sr, save = False):\n",
        "    mfccs = librosa.feature.mfcc(y=y, sr=sr)\n",
        "    plt.figure(figsize=(12, 4))\n",
        "    librosa.display.specshow(mfccs, x_axis=\"time\")\n",
        "    plt.colorbar()\n",
        "    plt.title(\"MFCC\")\n",
        "\n",
        "    if (save):\n",
        "        # * Save the file in a BytesIO Object\n",
        "        img_buffer = io.BytesIO()\n",
        "        plt.savefig(img_buffer, format='png')\n",
        "        img_buffer.seek(0)\n",
        "        return img_buffer\n",
        "\n",
        "    else:\n",
        "        plt.show()\n",
        "        plt.close()\n",
        "        return None"
      ]
    },
    {
      "cell_type": "code",
      "execution_count": 39,
      "metadata": {
        "id": "wB1hijwYevw-"
      },
      "outputs": [],
      "source": [
        "def analize_audio(selected_file, save=False):\n",
        "    try:\n",
        "        audio = AudioSegment.from_file(selected_file)\n",
        "        temp_wav = \"temp_wav\"\n",
        "        audio.export(temp_wav, format=\"wav\")\n",
        "\n",
        "        # Load the audio file\n",
        "        y, sr = librosa.load(temp_wav)\n",
        "\n",
        "        images = []\n",
        "\n",
        "        if not save:\n",
        "            # Visualize the shape of the wave\n",
        "            get_wave_shape(y, sr, save)\n",
        "\n",
        "            # Extract the spectrogram\n",
        "            get_spectogram(y, sr, save)\n",
        "\n",
        "            # Tempo and rhythm\n",
        "            get_tempo_rhythm(y, sr, save)\n",
        "\n",
        "            # Extract tonality features\n",
        "            get_tonality_features(y, sr, save)\n",
        "\n",
        "            # Calculate the MFCC (Mel-frequency cepstral coefficients)\n",
        "            calculate_mfcc(y, sr, save)\n",
        "\n",
        "            os.remove(temp_wav)\n",
        "        else:\n",
        "            # Generate and save images\n",
        "            images.append((\"wave_shape.png\", get_wave_shape(y, sr, save)))\n",
        "            images.append((\"spectogram.png\", get_spectogram(y, sr, save)))\n",
        "            images.append((\"tonality_features.png\", get_tonality_features(y, sr, save)))\n",
        "            images.append((\"mfcc.png\", calculate_mfcc(y, sr, save)))\n",
        "\n",
        "            # Create a ZIP file\n",
        "            zip_buffer = io.BytesIO()\n",
        "            with zipfile.ZipFile(zip_buffer, \"a\") as zipf:\n",
        "                for img_filename, img_buffer in images:\n",
        "                    if img_buffer:\n",
        "                        zipf.writestr(img_filename, img_buffer.getvalue())\n",
        "\n",
        "            tempo_rhythm = get_tempo_rhythm(y, sr, save)\n",
        "            with zipfile.ZipFile(zip_buffer, \"a\") as zipf:\n",
        "                zipf.writestr(\"tempo_rhythm.json\", json.dumps(tempo_rhythm))\n",
        "\n",
        "            zip_buffer.seek(0)\n",
        "\n",
        "            os.remove(temp_wav)\n",
        "\n",
        "            return zip_buffer\n",
        "\n",
        "    except Exception as e:\n",
        "        print(f\"Exception in [analyze_audio]: {e}\")\n",
        "        return None\n"
      ]
    },
    {
      "cell_type": "code",
      "execution_count": 40,
      "metadata": {
        "id": "hDg9wqXeELbV"
      },
      "outputs": [],
      "source": [
        "# def main():\n",
        "#   uploaded_files = select_file()\n",
        "\n",
        "#   for filename, file_content in uploaded_files.items():\n",
        "#       filename = \"/content/\" + \"file.mp3\"\n",
        "\n",
        "#       # Save the content in a file with the new name\n",
        "#       with open(filename, \"wb\") as f:\n",
        "#           f.write(file_content)\n",
        "\n",
        "#       # Finally, analysing the audio\n",
        "#       analize_audio(filename, False)\n",
        "\n",
        "# main()"
      ]
    },
    {
      "cell_type": "code",
      "execution_count": null,
      "metadata": {
        "id": "KvGncMekYM9W"
      },
      "outputs": [],
      "source": [
        "app = Flask(__name__)\n",
        "CORS(app)\n",
        "run_with_ngrok(app)\n",
        "\n",
        "@app.route(\"/\", methods=[\"GET\"])\n",
        "def connection_stablished():\n",
        "    return jsonify({ \"message\": \"Hello there!\" })\n",
        "\n",
        "@app.route('/analyze', methods=[\"POST\"])\n",
        "def analyze():\n",
        "    try:\n",
        "        if 'audio' in request.files:\n",
        "            audio = request.files['audio']\n",
        "            zip_file = analize_audio(audio, True)\n",
        "            return send_file(zip_file, mimetype='application/zip', as_attachment=True, download_name='analysis.zip')\n",
        "        else:\n",
        "            return jsonify({ \"message\": \"File not found in request!\" })\n",
        "    except Exception as e:\n",
        "        print(f\"Exception in route [/analyze]: {e}\")\n",
        "        return jsonify({ \"error\": str(e) })\n",
        "\n",
        "app.config['MAX_CONTENT_LENGTH'] = 30 * 1024 * 1024  # Max content size: 30 MB\n",
        "\n",
        "app.run()"
      ]
    }
  ],
  "metadata": {
    "colab": {
      "provenance": [],
      "authorship_tag": "ABX9TyPG3a9aGOQI4yyNm/d0+idA",
      "include_colab_link": true
    },
    "kernelspec": {
      "display_name": "Python 3",
      "name": "python3"
    },
    "language_info": {
      "name": "python"
    }
  },
  "nbformat": 4,
  "nbformat_minor": 0
}